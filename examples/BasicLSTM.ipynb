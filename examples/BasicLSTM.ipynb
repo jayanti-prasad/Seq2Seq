{
 "cells": [
  {
   "cell_type": "code",
   "execution_count": 12,
   "id": "e7aa0415-c43e-4dc4-be1f-dfac24f4da88",
   "metadata": {},
   "outputs": [
    {
     "name": "stdout",
     "output_type": "stream",
     "text": [
      "Model: \"A simple LSTM Model\"\n",
      "_________________________________________________________________\n",
      " Layer (type)                Output Shape              Param #   \n",
      "=================================================================\n",
      " Input-Layer (InputLayer)    [(None, None, 20)]        0         \n",
      "                                                                 \n",
      " LSTM-Layer (LSTM)           [(None, 60),              19440     \n",
      "                              (None, 60),                        \n",
      "                              (None, 60)]                        \n",
      "                                                                 \n",
      "=================================================================\n",
      "Total params: 19440 (75.94 KB)\n",
      "Trainable params: 19440 (75.94 KB)\n",
      "Non-trainable params: 0 (0.00 Byte)\n",
      "_________________________________________________________________\n",
      "None\n",
      "num params= 19440\n"
     ]
    }
   ],
   "source": [
    "from keras.models import Model\n",
    "from keras.layers import Input,  LSTM \n",
    "\n",
    "input_dim = 20 \n",
    "latent_dim = 60\n",
    "\n",
    "inp  = Input (shape=(None, input_dim), name='Input-Layer')\n",
    "out  = LSTM (latent_dim, return_state=True,name='LSTM-Layer') (inp)\n",
    "model = Model (inp, out,name='A simple LSTM Model')\n",
    "print(model.summary())\n",
    "\n",
    "num_params = 4 * ( input_dim * latent_dim + latent_dim * latent_dim + latent_dim) \n",
    "print(\"num params=\",num_params)\n"
   ]
  }
 ],
 "metadata": {
  "kernelspec": {
   "display_name": "Python 3 (ipykernel)",
   "language": "python",
   "name": "python3"
  },
  "language_info": {
   "codemirror_mode": {
    "name": "ipython",
    "version": 3
   },
   "file_extension": ".py",
   "mimetype": "text/x-python",
   "name": "python",
   "nbconvert_exporter": "python",
   "pygments_lexer": "ipython3",
   "version": "3.9.17"
  }
 },
 "nbformat": 4,
 "nbformat_minor": 5
}
